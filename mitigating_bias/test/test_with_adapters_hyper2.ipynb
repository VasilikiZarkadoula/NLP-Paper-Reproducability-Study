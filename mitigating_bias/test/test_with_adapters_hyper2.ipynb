{
 "cells": [
  {
   "cell_type": "code",
   "execution_count": 5,
   "id": "b40f9e8a-9e21-4bf8-a39c-7e0066a9a674",
   "metadata": {},
   "outputs": [
    {
     "name": "stdout",
     "output_type": "stream",
     "text": [
      "Requirement already satisfied: adapter_transformers==3.1.0 in /usr/local/lib/python3.9/dist-packages (from -r requirements.txt (line 1)) (3.1.0)\n",
      "Requirement already satisfied: numpy==1.20.3 in /usr/local/lib/python3.9/dist-packages (from -r requirements.txt (line 2)) (1.20.3)\n",
      "Requirement already satisfied: pandas==1.3.4 in /usr/local/lib/python3.9/dist-packages (from -r requirements.txt (line 3)) (1.3.4)\n",
      "Requirement already satisfied: prettytable==3.4.1 in /usr/local/lib/python3.9/dist-packages (from -r requirements.txt (line 4)) (3.4.1)\n",
      "Requirement already satisfied: tqdm==4.62.3 in /usr/local/lib/python3.9/dist-packages (from -r requirements.txt (line 5)) (4.62.3)\n",
      "Requirement already satisfied: transformers==4.23.1 in /usr/local/lib/python3.9/dist-packages (from -r requirements.txt (line 6)) (4.23.1)\n",
      "Requirement already satisfied: pyyaml>=5.1 in /usr/local/lib/python3.9/dist-packages (from adapter_transformers==3.1.0->-r requirements.txt (line 1)) (5.4.1)\n",
      "Requirement already satisfied: filelock in /usr/local/lib/python3.9/dist-packages (from adapter_transformers==3.1.0->-r requirements.txt (line 1)) (3.7.1)\n",
      "Requirement already satisfied: regex!=2019.12.17 in /usr/local/lib/python3.9/dist-packages (from adapter_transformers==3.1.0->-r requirements.txt (line 1)) (2022.7.9)\n",
      "Requirement already satisfied: packaging>=20.0 in /usr/local/lib/python3.9/dist-packages (from adapter_transformers==3.1.0->-r requirements.txt (line 1)) (21.3)\n",
      "Requirement already satisfied: requests in /usr/local/lib/python3.9/dist-packages (from adapter_transformers==3.1.0->-r requirements.txt (line 1)) (2.28.1)\n",
      "Requirement already satisfied: huggingface-hub<1.0,>=0.1.0 in /usr/local/lib/python3.9/dist-packages (from adapter_transformers==3.1.0->-r requirements.txt (line 1)) (0.11.1)\n",
      "Requirement already satisfied: tokenizers!=0.11.3,<0.13,>=0.11.1 in /usr/local/lib/python3.9/dist-packages (from adapter_transformers==3.1.0->-r requirements.txt (line 1)) (0.12.1)\n",
      "Requirement already satisfied: python-dateutil>=2.7.3 in /usr/local/lib/python3.9/dist-packages (from pandas==1.3.4->-r requirements.txt (line 3)) (2.8.2)\n",
      "Requirement already satisfied: pytz>=2017.3 in /usr/local/lib/python3.9/dist-packages (from pandas==1.3.4->-r requirements.txt (line 3)) (2022.1)\n",
      "Requirement already satisfied: wcwidth in /usr/local/lib/python3.9/dist-packages (from prettytable==3.4.1->-r requirements.txt (line 4)) (0.2.5)\n",
      "Requirement already satisfied: typing-extensions>=3.7.4.3 in /usr/local/lib/python3.9/dist-packages (from huggingface-hub<1.0,>=0.1.0->adapter_transformers==3.1.0->-r requirements.txt (line 1)) (4.3.0)\n",
      "Requirement already satisfied: pyparsing!=3.0.5,>=2.0.2 in /usr/local/lib/python3.9/dist-packages (from packaging>=20.0->adapter_transformers==3.1.0->-r requirements.txt (line 1)) (3.0.9)\n",
      "Requirement already satisfied: six>=1.5 in /usr/lib/python3/dist-packages (from python-dateutil>=2.7.3->pandas==1.3.4->-r requirements.txt (line 3)) (1.14.0)\n",
      "Requirement already satisfied: charset-normalizer<3,>=2 in /usr/local/lib/python3.9/dist-packages (from requests->adapter_transformers==3.1.0->-r requirements.txt (line 1)) (2.1.0)\n",
      "Requirement already satisfied: idna<4,>=2.5 in /usr/lib/python3/dist-packages (from requests->adapter_transformers==3.1.0->-r requirements.txt (line 1)) (2.8)\n",
      "Requirement already satisfied: certifi>=2017.4.17 in /usr/lib/python3/dist-packages (from requests->adapter_transformers==3.1.0->-r requirements.txt (line 1)) (2019.11.28)\n",
      "Requirement already satisfied: urllib3<1.27,>=1.21.1 in /usr/local/lib/python3.9/dist-packages (from requests->adapter_transformers==3.1.0->-r requirements.txt (line 1)) (1.26.10)\n",
      "\u001b[33mWARNING: Running pip as the 'root' user can result in broken permissions and conflicting behaviour with the system package manager. It is recommended to use a virtual environment instead: https://pip.pypa.io/warnings/venv\u001b[0m\u001b[33m\n",
      "\u001b[0mNote: you may need to restart the kernel to use updated packages.\n"
     ]
    }
   ],
   "source": [
    "pip install -r requirements.txt"
   ]
  },
  {
   "cell_type": "code",
   "execution_count": 6,
   "id": "b7893b28-91df-466f-84c0-1139d49ee8c3",
   "metadata": {},
   "outputs": [
    {
     "name": "stdout",
     "output_type": "stream",
     "text": [
      "Looking in indexes: https://pypi.org/simple, https://download.pytorch.org/whl/cu116\n",
      "Requirement already satisfied: torch in /usr/local/lib/python3.9/dist-packages (1.12.0+cu116)\n",
      "Requirement already satisfied: torchvision in /usr/local/lib/python3.9/dist-packages (0.13.0+cu116)\n",
      "Requirement already satisfied: torchaudio in /usr/local/lib/python3.9/dist-packages (0.12.0+cu116)\n",
      "Requirement already satisfied: typing-extensions in /usr/local/lib/python3.9/dist-packages (from torch) (4.3.0)\n",
      "Requirement already satisfied: pillow!=8.3.*,>=5.3.0 in /usr/local/lib/python3.9/dist-packages (from torchvision) (9.2.0)\n",
      "Requirement already satisfied: requests in /usr/local/lib/python3.9/dist-packages (from torchvision) (2.28.1)\n",
      "Requirement already satisfied: numpy in /usr/local/lib/python3.9/dist-packages (from torchvision) (1.20.3)\n",
      "Requirement already satisfied: idna<4,>=2.5 in /usr/lib/python3/dist-packages (from requests->torchvision) (2.8)\n",
      "Requirement already satisfied: charset-normalizer<3,>=2 in /usr/local/lib/python3.9/dist-packages (from requests->torchvision) (2.1.0)\n",
      "Requirement already satisfied: urllib3<1.27,>=1.21.1 in /usr/local/lib/python3.9/dist-packages (from requests->torchvision) (1.26.10)\n",
      "Requirement already satisfied: certifi>=2017.4.17 in /usr/lib/python3/dist-packages (from requests->torchvision) (2019.11.28)\n",
      "\u001b[33mWARNING: Running pip as the 'root' user can result in broken permissions and conflicting behaviour with the system package manager. It is recommended to use a virtual environment instead: https://pip.pypa.io/warnings/venv\u001b[0m\u001b[33m\n",
      "\u001b[0m"
     ]
    }
   ],
   "source": [
    "!pip3 install torch torchvision torchaudio --extra-index-url https://download.pytorch.org/whl/cu116"
   ]
  },
  {
   "cell_type": "code",
   "execution_count": 7,
   "id": "ec9b8beb-5cc5-4fce-8453-84932a4c1cf9",
   "metadata": {},
   "outputs": [
    {
     "name": "stdout",
     "output_type": "stream",
     "text": [
      "Requirement already satisfied: matplotlib==3.4.3 in /usr/local/lib/python3.9/dist-packages (3.4.3)\n",
      "Requirement already satisfied: numpy>=1.16 in /usr/local/lib/python3.9/dist-packages (from matplotlib==3.4.3) (1.20.3)\n",
      "Requirement already satisfied: pillow>=6.2.0 in /usr/local/lib/python3.9/dist-packages (from matplotlib==3.4.3) (9.2.0)\n",
      "Requirement already satisfied: pyparsing>=2.2.1 in /usr/local/lib/python3.9/dist-packages (from matplotlib==3.4.3) (3.0.9)\n",
      "Requirement already satisfied: cycler>=0.10 in /usr/local/lib/python3.9/dist-packages (from matplotlib==3.4.3) (0.11.0)\n",
      "Requirement already satisfied: python-dateutil>=2.7 in /usr/local/lib/python3.9/dist-packages (from matplotlib==3.4.3) (2.8.2)\n",
      "Requirement already satisfied: kiwisolver>=1.0.1 in /usr/local/lib/python3.9/dist-packages (from matplotlib==3.4.3) (1.4.3)\n",
      "Requirement already satisfied: six>=1.5 in /usr/lib/python3/dist-packages (from python-dateutil>=2.7->matplotlib==3.4.3) (1.14.0)\n",
      "\u001b[33mWARNING: Running pip as the 'root' user can result in broken permissions and conflicting behaviour with the system package manager. It is recommended to use a virtual environment instead: https://pip.pypa.io/warnings/venv\u001b[0m\u001b[33m\n",
      "\u001b[0m"
     ]
    }
   ],
   "source": [
    "!pip install matplotlib==3.4.3"
   ]
  },
  {
   "cell_type": "code",
   "execution_count": 4,
   "id": "e690edac-9862-42de-a6ee-a88db83855ad",
   "metadata": {},
   "outputs": [
    {
     "name": "stdout",
     "output_type": "stream",
     "text": [
      "Downloading tokenizer_config.json: 100%|█████| 28.0/28.0 [00:00<00:00, 25.4kB/s]\n",
      "Downloading config.json: 100%|██████████████████| 570/570 [00:00<00:00, 451kB/s]\n",
      "Downloading vocab.txt: 100%|█████████████████| 226k/226k [00:00<00:00, 6.24MB/s]\n",
      "Downloading pytorch_model.bin: 100%|█████████| 420M/420M [00:06<00:00, 67.0MB/s]\n",
      "Some weights of the model checkpoint at bert-base-uncased were not used when initializing BertModel: ['cls.predictions.bias', 'cls.predictions.transform.LayerNorm.weight', 'cls.predictions.transform.LayerNorm.bias', 'cls.seq_relationship.bias', 'cls.predictions.decoder.weight', 'cls.predictions.transform.dense.weight', 'cls.predictions.transform.dense.bias', 'cls.seq_relationship.weight']\n",
      "- This IS expected if you are initializing BertModel from the checkpoint of a model trained on another task or with another architecture (e.g. initializing a BertForSequenceClassification model from a BertForPreTraining model).\n",
      "- This IS NOT expected if you are initializing BertModel from the checkpoint of a model that you expect to be exactly identical (initializing a BertForSequenceClassification model from a BertForSequenceClassification model).\n",
      "Downloading tokenizer_config.json: 100%|█████| 28.0/28.0 [00:00<00:00, 27.9kB/s]\n",
      "Downloading config.json: 100%|██████████████████| 571/571 [00:00<00:00, 485kB/s]\n",
      "Downloading vocab.txt: 100%|█████████████████| 226k/226k [00:00<00:00, 5.90MB/s]\n",
      "Downloading pytorch_model.bin: 100%|███████| 1.25G/1.25G [00:31<00:00, 42.3MB/s]\n",
      "Some weights of the model checkpoint at bert-large-uncased were not used when initializing BertModel: ['cls.predictions.bias', 'cls.predictions.transform.LayerNorm.weight', 'cls.predictions.transform.LayerNorm.bias', 'cls.seq_relationship.bias', 'cls.predictions.decoder.weight', 'cls.predictions.transform.dense.weight', 'cls.predictions.transform.dense.bias', 'cls.seq_relationship.weight']\n",
      "- This IS expected if you are initializing BertModel from the checkpoint of a model trained on another task or with another architecture (e.g. initializing a BertForSequenceClassification model from a BertForPreTraining model).\n",
      "- This IS NOT expected if you are initializing BertModel from the checkpoint of a model that you expect to be exactly identical (initializing a BertForSequenceClassification model from a BertForSequenceClassification model).\n",
      "Downloading tokenizer_config.json: 100%|████████| 321/321 [00:00<00:00, 280kB/s]\n",
      "Downloading vocab.txt: 100%|█████████████████| 226k/226k [00:00<00:00, 6.18MB/s]\n",
      "Downloading tokenizer.json: 100%|████████████| 455k/455k [00:00<00:00, 8.23MB/s]\n",
      "Downloading special_tokens_map.json: 100%|██████| 112/112 [00:00<00:00, 128kB/s]\n",
      "Downloading config.json: 100%|██████████████████| 779/779 [00:00<00:00, 757kB/s]\n",
      "Downloading pytorch_model.bin: 100%|█████████| 418M/418M [00:08<00:00, 48.8MB/s]\n",
      "Downloading vocab.json: 100%|████████████████| 878k/878k [00:00<00:00, 8.15MB/s]\n",
      "Downloading merges.txt: 100%|████████████████| 446k/446k [00:00<00:00, 7.24MB/s]\n",
      "Downloading config.json: 100%|█████████████| 1.68k/1.68k [00:00<00:00, 2.32MB/s]\n",
      "Downloading pytorch_model.bin: 100%|█████████| 532M/532M [00:07<00:00, 73.7MB/s]\n",
      "+----------------------+-----------------------+------------------+----------------------+\n",
      "| bert_score_bert_base | bert_score_bert_large | bleurt_bert_base | bart_score_bart_base |\n",
      "+----------------------+-----------------------+------------------+----------------------+\n",
      "|         4.1          |         12.29         |       21.8       |         3.66         |\n",
      "+----------------------+-----------------------+------------------+----------------------+\n"
     ]
    }
   ],
   "source": [
    "!python cal_debias_scores.py --bert_score_bert_large_adapter_path adapters2/adapterBERT  --bart_score_bart_base_adapter_path adapters2/adapterBART --bleurt_bert_base_adapter_path adapters2/adapterBLEURT --bert_score_bert_base_adapter_path adapters2/adapterBERT/base"
   ]
  },
  {
   "cell_type": "code",
   "execution_count": 8,
   "id": "30eb7cd7-bf0b-45b3-b677-101b0192e89c",
   "metadata": {},
   "outputs": [
    {
     "name": "stdout",
     "output_type": "stream",
     "text": [
      "Some weights of the model checkpoint at bert-base-uncased were not used when initializing BertModel: ['cls.predictions.decoder.weight', 'cls.predictions.transform.dense.bias', 'cls.predictions.transform.LayerNorm.bias', 'cls.seq_relationship.bias', 'cls.seq_relationship.weight', 'cls.predictions.transform.LayerNorm.weight', 'cls.predictions.transform.dense.weight', 'cls.predictions.bias']\n",
      "- This IS expected if you are initializing BertModel from the checkpoint of a model trained on another task or with another architecture (e.g. initializing a BertForSequenceClassification model from a BertForPreTraining model).\n",
      "- This IS NOT expected if you are initializing BertModel from the checkpoint of a model that you expect to be exactly identical (initializing a BertForSequenceClassification model from a BertForSequenceClassification model).\n",
      "Some weights of the model checkpoint at bert-large-uncased were not used when initializing BertModel: ['cls.predictions.decoder.weight', 'cls.predictions.transform.dense.bias', 'cls.predictions.transform.LayerNorm.bias', 'cls.seq_relationship.bias', 'cls.seq_relationship.weight', 'cls.predictions.bias', 'cls.predictions.transform.dense.weight', 'cls.predictions.transform.LayerNorm.weight']\n",
      "- This IS expected if you are initializing BertModel from the checkpoint of a model trained on another task or with another architecture (e.g. initializing a BertForSequenceClassification model from a BertForPreTraining model).\n",
      "- This IS NOT expected if you are initializing BertModel from the checkpoint of a model that you expect to be exactly identical (initializing a BertForSequenceClassification model from a BertForSequenceClassification model).\n",
      "+----------------------+-----------------------+------------------+----------------------+\n",
      "| bert_score_bert_base | bert_score_bert_large | bleurt_bert_base | bart_score_bart_base |\n",
      "+----------------------+-----------------------+------------------+----------------------+\n",
      "|         4.1          |          3.19         |       21.8       |         3.66         |\n",
      "+----------------------+-----------------------+------------------+----------------------+\n"
     ]
    }
   ],
   "source": [
    "!python cal_debias_scores.py --bert_score_bert_large_adapter_path adapters2/adapterBERT  --bart_score_bart_base_adapter_path adapters2/adapterBART --bleurt_bert_base_adapter_path adapters2/adapterBLEURT --bert_score_bert_base_adapter_path adapters2/adapterBERT/base"
   ]
  },
  {
   "cell_type": "code",
   "execution_count": null,
   "id": "10cfea9b-221b-464d-8eb3-a4d1977a0b80",
   "metadata": {},
   "outputs": [],
   "source": []
  }
 ],
 "metadata": {
  "kernelspec": {
   "display_name": "Python 3 (ipykernel)",
   "language": "python",
   "name": "python3"
  },
  "language_info": {
   "codemirror_mode": {
    "name": "ipython",
    "version": 3
   },
   "file_extension": ".py",
   "mimetype": "text/x-python",
   "name": "python",
   "nbconvert_exporter": "python",
   "pygments_lexer": "ipython3",
   "version": "3.9.13"
  }
 },
 "nbformat": 4,
 "nbformat_minor": 5
}
