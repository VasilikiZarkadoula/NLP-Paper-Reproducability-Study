{
 "cells": [
  {
   "cell_type": "code",
   "execution_count": 1,
   "id": "c9b04e22-2bce-4982-9db6-c75d21c68a5e",
   "metadata": {
    "execution": {
     "iopub.execute_input": "2023-01-10T20:26:43.585298Z",
     "iopub.status.busy": "2023-01-10T20:26:43.584876Z",
     "iopub.status.idle": "2023-01-10T20:26:47.566837Z",
     "shell.execute_reply": "2023-01-10T20:26:47.565938Z",
     "shell.execute_reply.started": "2023-01-10T20:26:43.585221Z"
    }
   },
   "outputs": [
    {
     "name": "stdout",
     "output_type": "stream",
     "text": [
      "Collecting adapter_transformers==3.1.0\n",
      "  Downloading adapter_transformers-3.1.0-py3-none-any.whl (4.8 MB)\n",
      "\u001b[2K     \u001b[90m━━━━━━━━━━━━━━━━━━━━━━━━━━━━━━━━━━━━━━━━\u001b[0m \u001b[32m4.8/4.8 MB\u001b[0m \u001b[31m15.5 MB/s\u001b[0m eta \u001b[36m0:00:00\u001b[0m00:01\u001b[0m00:01\u001b[0m\n",
      "\u001b[?25hCollecting matplotlib==3.4.3\n",
      "  Downloading matplotlib-3.4.3-cp39-cp39-manylinux1_x86_64.whl (10.3 MB)\n",
      "\u001b[2K     \u001b[90m━━━━━━━━━━━━━━━━━━━━━━━━━━━━━━━━━━━━━━━━\u001b[0m \u001b[32m10.3/10.3 MB\u001b[0m \u001b[31m19.2 MB/s\u001b[0m eta \u001b[36m0:00:00\u001b[0m00:01\u001b[0m00:01\u001b[0m\n",
      "\u001b[?25hCollecting numpy==1.20.3\n",
      "  Downloading numpy-1.20.3-cp39-cp39-manylinux_2_12_x86_64.manylinux2010_x86_64.whl (15.4 MB)\n",
      "\u001b[2K     \u001b[90m━━━━━━━━━━━━━━━━━━━━━━━━━━━━━━━━━━━━━━━━\u001b[0m \u001b[32m15.4/15.4 MB\u001b[0m \u001b[31m36.6 MB/s\u001b[0m eta \u001b[36m0:00:00\u001b[0m00:01\u001b[0m00:01\u001b[0m\n",
      "\u001b[?25hCollecting pandas==1.3.4\n",
      "  Downloading pandas-1.3.4-cp39-cp39-manylinux_2_17_x86_64.manylinux2014_x86_64.whl (11.5 MB)\n",
      "\u001b[2K     \u001b[90m━━━━━━━━━━━━━━━━━━━━━━━━━━━━━━━━━━━━━━━━\u001b[0m \u001b[32m11.5/11.5 MB\u001b[0m \u001b[31m29.4 MB/s\u001b[0m eta \u001b[36m0:00:00\u001b[0m00:01\u001b[0m00:01\u001b[0m\n",
      "\u001b[?25hCollecting prettytable==3.4.1\n",
      "  Downloading prettytable-3.4.1-py3-none-any.whl (26 kB)\n",
      "\u001b[31mERROR: Could not find a version that satisfies the requirement torch==1.12.1+cu116 (from versions: 1.7.1, 1.8.0, 1.8.1, 1.9.0, 1.9.1, 1.10.0, 1.10.1, 1.10.2, 1.11.0, 1.12.0, 1.12.1, 1.13.0, 1.13.1)\u001b[0m\u001b[31m\n",
      "\u001b[0m\u001b[31mERROR: No matching distribution found for torch==1.12.1+cu116\u001b[0m\u001b[31m\n",
      "\u001b[0mNote: you may need to restart the kernel to use updated packages.\n"
     ]
    }
   ],
   "source": [
    "pip install -r requirements.txt"
   ]
  },
  {
   "cell_type": "code",
   "execution_count": 3,
   "id": "a2a7143b-3209-4b77-bb96-15c5df7667fa",
   "metadata": {
    "execution": {
     "iopub.execute_input": "2023-01-10T20:27:38.556562Z",
     "iopub.status.busy": "2023-01-10T20:27:38.556207Z",
     "iopub.status.idle": "2023-01-10T20:27:41.579843Z",
     "shell.execute_reply": "2023-01-10T20:27:41.578788Z",
     "shell.execute_reply.started": "2023-01-10T20:27:38.556535Z"
    }
   },
   "outputs": [
    {
     "name": "stdout",
     "output_type": "stream",
     "text": [
      "Looking in indexes: https://pypi.org/simple, https://download.pytorch.org/whl/cu116\n",
      "Requirement already satisfied: torch in /usr/local/lib/python3.9/dist-packages (1.12.0+cu116)\n",
      "Requirement already satisfied: torchvision in /usr/local/lib/python3.9/dist-packages (0.13.0+cu116)\n",
      "Requirement already satisfied: torchaudio in /usr/local/lib/python3.9/dist-packages (0.12.0+cu116)\n",
      "Requirement already satisfied: typing-extensions in /usr/local/lib/python3.9/dist-packages (from torch) (4.3.0)\n",
      "Requirement already satisfied: requests in /usr/local/lib/python3.9/dist-packages (from torchvision) (2.28.1)\n",
      "Requirement already satisfied: pillow!=8.3.*,>=5.3.0 in /usr/local/lib/python3.9/dist-packages (from torchvision) (9.2.0)\n",
      "Requirement already satisfied: numpy in /usr/local/lib/python3.9/dist-packages (from torchvision) (1.23.1)\n",
      "Requirement already satisfied: charset-normalizer<3,>=2 in /usr/local/lib/python3.9/dist-packages (from requests->torchvision) (2.1.0)\n",
      "Requirement already satisfied: certifi>=2017.4.17 in /usr/lib/python3/dist-packages (from requests->torchvision) (2019.11.28)\n",
      "Requirement already satisfied: urllib3<1.27,>=1.21.1 in /usr/local/lib/python3.9/dist-packages (from requests->torchvision) (1.26.10)\n",
      "Requirement already satisfied: idna<4,>=2.5 in /usr/lib/python3/dist-packages (from requests->torchvision) (2.8)\n",
      "\u001b[33mWARNING: Running pip as the 'root' user can result in broken permissions and conflicting behaviour with the system package manager. It is recommended to use a virtual environment instead: https://pip.pypa.io/warnings/venv\u001b[0m\u001b[33m\n",
      "\u001b[0m"
     ]
    }
   ],
   "source": [
    "!pip3 install torch torchvision torchaudio --extra-index-url https://download.pytorch.org/whl/cu116"
   ]
  },
  {
   "cell_type": "code",
   "execution_count": 4,
   "id": "cb432b97-55bb-4632-9b57-e3f20e2ed39c",
   "metadata": {
    "execution": {
     "iopub.execute_input": "2023-01-10T20:34:19.164928Z",
     "iopub.status.busy": "2023-01-10T20:34:19.164535Z",
     "iopub.status.idle": "2023-01-10T20:35:46.919427Z",
     "shell.execute_reply": "2023-01-10T20:35:46.918550Z",
     "shell.execute_reply.started": "2023-01-10T20:34:19.164900Z"
    }
   },
   "outputs": [
    {
     "name": "stdout",
     "output_type": "stream",
     "text": [
      "Downloading: 100%|███████████████████████████| 28.0/28.0 [00:00<00:00, 40.1kB/s]\n",
      "Downloading: 100%|██████████████████████████████| 570/570 [00:00<00:00, 912kB/s]\n",
      "Downloading: 100%|███████████████████████████| 226k/226k [00:00<00:00, 6.06MB/s]\n",
      "Downloading: 100%|███████████████████████████| 420M/420M [00:05<00:00, 79.1MB/s]\n",
      "Some weights of the model checkpoint at bert-base-uncased were not used when initializing BertModel: ['cls.seq_relationship.weight', 'cls.predictions.transform.dense.bias', 'cls.seq_relationship.bias', 'cls.predictions.bias', 'cls.predictions.transform.LayerNorm.weight', 'cls.predictions.decoder.weight', 'cls.predictions.transform.dense.weight', 'cls.predictions.transform.LayerNorm.bias']\n",
      "- This IS expected if you are initializing BertModel from the checkpoint of a model trained on another task or with another architecture (e.g. initializing a BertForSequenceClassification model from a BertForPreTraining model).\n",
      "- This IS NOT expected if you are initializing BertModel from the checkpoint of a model that you expect to be exactly identical (initializing a BertForSequenceClassification model from a BertForSequenceClassification model).\n",
      "Downloading: 100%|███████████████████████████| 28.0/28.0 [00:00<00:00, 45.6kB/s]\n",
      "Downloading: 100%|██████████████████████████████| 571/571 [00:00<00:00, 937kB/s]\n",
      "Downloading: 100%|███████████████████████████| 226k/226k [00:00<00:00, 5.84MB/s]\n",
      "Downloading: 100%|█████████████████████████| 1.25G/1.25G [00:32<00:00, 40.8MB/s]\n",
      "Some weights of the model checkpoint at bert-large-uncased were not used when initializing BertModel: ['cls.seq_relationship.weight', 'cls.predictions.transform.LayerNorm.bias', 'cls.seq_relationship.bias', 'cls.predictions.bias', 'cls.predictions.transform.LayerNorm.weight', 'cls.predictions.decoder.weight', 'cls.predictions.transform.dense.weight', 'cls.predictions.transform.dense.bias']\n",
      "- This IS expected if you are initializing BertModel from the checkpoint of a model trained on another task or with another architecture (e.g. initializing a BertForSequenceClassification model from a BertForPreTraining model).\n",
      "- This IS NOT expected if you are initializing BertModel from the checkpoint of a model that you expect to be exactly identical (initializing a BertForSequenceClassification model from a BertForSequenceClassification model).\n",
      "Downloading: 100%|██████████████████████████████| 321/321 [00:00<00:00, 499kB/s]\n",
      "Downloading: 100%|███████████████████████████| 226k/226k [00:00<00:00, 4.10MB/s]\n",
      "Downloading: 100%|███████████████████████████| 455k/455k [00:00<00:00, 6.23MB/s]\n",
      "Downloading: 100%|██████████████████████████████| 112/112 [00:00<00:00, 167kB/s]\n",
      "Downloading: 100%|█████████████████████████████| 779/779 [00:00<00:00, 1.24MB/s]\n",
      "Downloading: 100%|███████████████████████████| 418M/418M [00:06<00:00, 70.1MB/s]\n",
      "Downloading: 100%|███████████████████████████| 878k/878k [00:00<00:00, 5.19MB/s]\n",
      "Downloading: 100%|███████████████████████████| 446k/446k [00:00<00:00, 4.57MB/s]\n",
      "Downloading: 100%|█████████████████████████| 1.68k/1.68k [00:00<00:00, 2.17MB/s]\n",
      "Downloading: 100%|███████████████████████████| 532M/532M [00:09<00:00, 60.7MB/s]\n",
      "+----------------------+-----------------------+------------------+----------------------+\n",
      "| bert_score_bert_base | bert_score_bert_large | bleurt_bert_base | bart_score_bart_base |\n",
      "+----------------------+-----------------------+------------------+----------------------+\n",
      "|         9.05         |          6.22         |      35.45       |         3.1          |\n",
      "+----------------------+-----------------------+------------------+----------------------+\n"
     ]
    }
   ],
   "source": [
    "!python cal_debias_scores.py --bert_score_bert_large_adapter_path None  --bert_score_bert_base_adapter_path None --bleurt_bert_base_adapter_path  None --bart_score_bart_base_adapter_path None "
   ]
  },
  {
   "cell_type": "code",
   "execution_count": null,
   "id": "73f06de3-c2eb-4f62-b53d-25065ae69aeb",
   "metadata": {},
   "outputs": [],
   "source": []
  }
 ],
 "metadata": {
  "kernelspec": {
   "display_name": "Python 3 (ipykernel)",
   "language": "python",
   "name": "python3"
  },
  "language_info": {
   "codemirror_mode": {
    "name": "ipython",
    "version": 3
   },
   "file_extension": ".py",
   "mimetype": "text/x-python",
   "name": "python",
   "nbconvert_exporter": "python",
   "pygments_lexer": "ipython3",
   "version": "3.9.13"
  }
 },
 "nbformat": 4,
 "nbformat_minor": 5
}
