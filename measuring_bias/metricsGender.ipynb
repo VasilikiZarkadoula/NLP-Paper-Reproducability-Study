{
 "cells": [
  {
   "cell_type": "code",
   "execution_count": 1,
   "id": "0112152b-7a4f-482b-bd27-a91ec0107c4c",
   "metadata": {
    "execution": {
     "iopub.execute_input": "2023-01-14T07:26:46.982653Z",
     "iopub.status.busy": "2023-01-14T07:26:46.982235Z",
     "iopub.status.idle": "2023-01-14T07:28:55.776780Z",
     "shell.execute_reply": "2023-01-14T07:28:55.775532Z",
     "shell.execute_reply.started": "2023-01-14T07:26:46.982568Z"
    }
   },
   "outputs": [
    {
     "name": "stdout",
     "output_type": "stream",
     "text": [
      "Collecting adapter_transformers==3.0.1\n",
      "  Downloading adapter_transformers-3.0.1-py3-none-any.whl (3.9 MB)\n",
      "\u001b[2K     \u001b[90m━━━━━━━━━━━━━━━━━━━━━━━━━━━━━━━━━━━━━━━━\u001b[0m \u001b[32m3.9/3.9 MB\u001b[0m \u001b[31m18.8 MB/s\u001b[0m eta \u001b[36m0:00:00\u001b[0ma \u001b[36m0:00:01\u001b[0mm\n",
      "\u001b[?25hCollecting bert_score==0.3.11\n",
      "  Downloading bert_score-0.3.11-py3-none-any.whl (60 kB)\n",
      "\u001b[2K     \u001b[90m━━━━━━━━━━━━━━━━━━━━━━━━━━━━━━━━━━━━━━━━\u001b[0m \u001b[32m60.1/60.1 kB\u001b[0m \u001b[31m15.2 MB/s\u001b[0m eta \u001b[36m0:00:00\u001b[0m\n",
      "\u001b[?25hCollecting datasets==2.4.0\n",
      "  Downloading datasets-2.4.0-py3-none-any.whl (365 kB)\n",
      "\u001b[2K     \u001b[90m━━━━━━━━━━━━━━━━━━━━━━━━━━━━━━━━━━━━━━\u001b[0m \u001b[32m365.7/365.7 kB\u001b[0m \u001b[31m53.4 MB/s\u001b[0m eta \u001b[36m0:00:00\u001b[0m\n",
      "\u001b[?25hCollecting fairseq==0.9.0\n",
      "  Downloading fairseq-0.9.0.tar.gz (306 kB)\n",
      "\u001b[2K     \u001b[90m━━━━━━━━━━━━━━━━━━━━━━━━━━━━━━━━━━━━━━\u001b[0m \u001b[32m306.1/306.1 kB\u001b[0m \u001b[31m46.0 MB/s\u001b[0m eta \u001b[36m0:00:00\u001b[0m\n",
      "\u001b[?25h  Preparing metadata (setup.py) ... \u001b[?25ldone\n",
      "\u001b[?25hCollecting matplotlib==3.5.1\n",
      "  Downloading matplotlib-3.5.1-cp39-cp39-manylinux_2_5_x86_64.manylinux1_x86_64.whl (11.2 MB)\n",
      "\u001b[2K     \u001b[90m━━━━━━━━━━━━━━━━━━━━━━━━━━━━━━━━━━━━━━━━\u001b[0m \u001b[32m11.2/11.2 MB\u001b[0m \u001b[31m57.6 MB/s\u001b[0m eta \u001b[36m0:00:00\u001b[0m00:01\u001b[0m0:01\u001b[0mm\n",
      "\u001b[?25hRequirement already satisfied: nltk==3.7 in /usr/local/lib/python3.9/dist-packages (from -r requirements.txt (line 6)) (3.7)\n",
      "Collecting numpy==1.23.3\n",
      "  Downloading numpy-1.23.3-cp39-cp39-manylinux_2_17_x86_64.manylinux2014_x86_64.whl (17.1 MB)\n",
      "\u001b[2K     \u001b[90m━━━━━━━━━━━━━━━━━━━━━━━━━━━━━━━━━━━━━━━━\u001b[0m \u001b[32m17.1/17.1 MB\u001b[0m \u001b[31m59.7 MB/s\u001b[0m eta \u001b[36m0:00:00\u001b[0m00:01\u001b[0m00:01\u001b[0m\n",
      "\u001b[?25hCollecting pandas==1.4.2\n",
      "  Downloading pandas-1.4.2-cp39-cp39-manylinux_2_17_x86_64.manylinux2014_x86_64.whl (11.7 MB)\n",
      "\u001b[2K     \u001b[90m━━━━━━━━━━━━━━━━━━━━━━━━━━━━━━━━━━━━━━━━\u001b[0m \u001b[32m11.7/11.7 MB\u001b[0m \u001b[31m49.2 MB/s\u001b[0m eta \u001b[36m0:00:00\u001b[0m00:01\u001b[0m00:01\u001b[0m\n",
      "\u001b[?25hCollecting prettytable==3.3.0\n",
      "  Downloading prettytable-3.3.0-py3-none-any.whl (26 kB)\n",
      "Collecting pyemd==0.5.1\n",
      "  Downloading pyemd-0.5.1.tar.gz (91 kB)\n",
      "\u001b[2K     \u001b[90m━━━━━━━━━━━━━━━━━━━━━━━━━━━━━━━━━━━━━━━━\u001b[0m \u001b[32m91.5/91.5 kB\u001b[0m \u001b[31m25.8 MB/s\u001b[0m eta \u001b[36m0:00:00\u001b[0m\n",
      "\u001b[?25h  Preparing metadata (setup.py) ... \u001b[?25ldone\n",
      "\u001b[?25hCollecting rouge_score==0.1.2\n",
      "  Downloading rouge_score-0.1.2.tar.gz (17 kB)\n",
      "  Preparing metadata (setup.py) ... \u001b[?25ldone\n",
      "\u001b[?25hCollecting sacrebleu==2.0.0\n",
      "  Downloading sacrebleu-2.0.0-py3-none-any.whl (90 kB)\n",
      "\u001b[2K     \u001b[90m━━━━━━━━━━━━━━━━━━━━━━━━━━━━━━━━━━━━━━━━\u001b[0m \u001b[32m90.7/90.7 kB\u001b[0m \u001b[31m22.5 MB/s\u001b[0m eta \u001b[36m0:00:00\u001b[0m\n",
      "\u001b[?25hRequirement already satisfied: sentencepiece==0.1.96 in /usr/local/lib/python3.9/dist-packages (from -r requirements.txt (line 13)) (0.1.96)\n",
      "Collecting torch==1.12.1\n",
      "  Downloading torch-1.12.1-cp39-cp39-manylinux1_x86_64.whl (776.4 MB)\n",
      "\u001b[2K     \u001b[90m━━━━━━━━━━━━━━━━━━━━━━━━━━━━━━━━━━━━━━━\u001b[0m \u001b[32m776.4/776.4 MB\u001b[0m \u001b[31m2.9 MB/s\u001b[0m eta \u001b[36m0:00:00\u001b[0m00:01\u001b[0m00:01\u001b[0m\n",
      "\u001b[?25hCollecting transformers==4.22.2\n",
      "  Downloading transformers-4.22.2-py3-none-any.whl (4.9 MB)\n",
      "\u001b[2K     \u001b[90m━━━━━━━━━━━━━━━━━━━━━━━━━━━━━━━━━━━━━━━━\u001b[0m \u001b[32m4.9/4.9 MB\u001b[0m \u001b[31m74.1 MB/s\u001b[0m eta \u001b[36m0:00:00\u001b[0mta \u001b[36m0:00:01\u001b[0m\n",
      "\u001b[?25hRequirement already satisfied: requests in /usr/local/lib/python3.9/dist-packages (from adapter_transformers==3.0.1->-r requirements.txt (line 1)) (2.28.1)\n",
      "Requirement already satisfied: filelock in /usr/local/lib/python3.9/dist-packages (from adapter_transformers==3.0.1->-r requirements.txt (line 1)) (3.7.1)\n",
      "Requirement already satisfied: regex!=2019.12.17 in /usr/local/lib/python3.9/dist-packages (from adapter_transformers==3.0.1->-r requirements.txt (line 1)) (2022.7.9)\n",
      "Requirement already satisfied: packaging>=20.0 in /usr/local/lib/python3.9/dist-packages (from adapter_transformers==3.0.1->-r requirements.txt (line 1)) (21.3)\n",
      "Collecting sacremoses\n",
      "  Downloading sacremoses-0.0.53.tar.gz (880 kB)\n",
      "\u001b[2K     \u001b[90m━━━━━━━━━━━━━━━━━━━━━━━━━━━━━━━━━━━━━━\u001b[0m \u001b[32m880.6/880.6 kB\u001b[0m \u001b[31m72.0 MB/s\u001b[0m eta \u001b[36m0:00:00\u001b[0m\n",
      "\u001b[?25h  Preparing metadata (setup.py) ... \u001b[?25ldone\n",
      "\u001b[?25hRequirement already satisfied: huggingface-hub<1.0,>=0.1.0 in /usr/local/lib/python3.9/dist-packages (from adapter_transformers==3.0.1->-r requirements.txt (line 1)) (0.8.1)\n",
      "Requirement already satisfied: pyyaml>=5.1 in /usr/local/lib/python3.9/dist-packages (from adapter_transformers==3.0.1->-r requirements.txt (line 1)) (5.4.1)\n",
      "Requirement already satisfied: tokenizers!=0.11.3,>=0.11.1 in /usr/local/lib/python3.9/dist-packages (from adapter_transformers==3.0.1->-r requirements.txt (line 1)) (0.12.1)\n",
      "Requirement already satisfied: tqdm>=4.27 in /usr/local/lib/python3.9/dist-packages (from adapter_transformers==3.0.1->-r requirements.txt (line 1)) (4.64.0)\n",
      "Requirement already satisfied: pyarrow>=6.0.0 in /usr/local/lib/python3.9/dist-packages (from datasets==2.4.0->-r requirements.txt (line 3)) (8.0.0)\n",
      "Requirement already satisfied: multiprocess in /usr/local/lib/python3.9/dist-packages (from datasets==2.4.0->-r requirements.txt (line 3)) (0.70.13)\n",
      "Requirement already satisfied: dill<0.3.6 in /usr/local/lib/python3.9/dist-packages (from datasets==2.4.0->-r requirements.txt (line 3)) (0.3.5.1)\n",
      "Requirement already satisfied: fsspec[http]>=2021.11.1 in /usr/local/lib/python3.9/dist-packages (from datasets==2.4.0->-r requirements.txt (line 3)) (2022.5.0)\n",
      "Requirement already satisfied: xxhash in /usr/local/lib/python3.9/dist-packages (from datasets==2.4.0->-r requirements.txt (line 3)) (3.0.0)\n",
      "Requirement already satisfied: responses<0.19 in /usr/local/lib/python3.9/dist-packages (from datasets==2.4.0->-r requirements.txt (line 3)) (0.18.0)\n",
      "Requirement already satisfied: aiohttp in /usr/local/lib/python3.9/dist-packages (from datasets==2.4.0->-r requirements.txt (line 3)) (3.8.1)\n",
      "Requirement already satisfied: cffi in /usr/local/lib/python3.9/dist-packages (from fairseq==0.9.0->-r requirements.txt (line 4)) (1.15.1)\n",
      "Requirement already satisfied: cython in /usr/local/lib/python3.9/dist-packages (from fairseq==0.9.0->-r requirements.txt (line 4)) (0.29.30)\n",
      "Requirement already satisfied: fonttools>=4.22.0 in /usr/local/lib/python3.9/dist-packages (from matplotlib==3.5.1->-r requirements.txt (line 5)) (4.34.4)\n",
      "Requirement already satisfied: pyparsing>=2.2.1 in /usr/local/lib/python3.9/dist-packages (from matplotlib==3.5.1->-r requirements.txt (line 5)) (3.0.9)\n",
      "Requirement already satisfied: kiwisolver>=1.0.1 in /usr/local/lib/python3.9/dist-packages (from matplotlib==3.5.1->-r requirements.txt (line 5)) (1.4.3)\n",
      "Requirement already satisfied: python-dateutil>=2.7 in /usr/local/lib/python3.9/dist-packages (from matplotlib==3.5.1->-r requirements.txt (line 5)) (2.8.2)\n",
      "Requirement already satisfied: cycler>=0.10 in /usr/local/lib/python3.9/dist-packages (from matplotlib==3.5.1->-r requirements.txt (line 5)) (0.11.0)\n",
      "Requirement already satisfied: pillow>=6.2.0 in /usr/local/lib/python3.9/dist-packages (from matplotlib==3.5.1->-r requirements.txt (line 5)) (9.2.0)\n",
      "Requirement already satisfied: click in /usr/local/lib/python3.9/dist-packages (from nltk==3.7->-r requirements.txt (line 6)) (8.1.3)\n",
      "Requirement already satisfied: joblib in /usr/local/lib/python3.9/dist-packages (from nltk==3.7->-r requirements.txt (line 6)) (1.1.0)\n",
      "Requirement already satisfied: pytz>=2020.1 in /usr/local/lib/python3.9/dist-packages (from pandas==1.4.2->-r requirements.txt (line 8)) (2022.1)\n",
      "Requirement already satisfied: wcwidth in /usr/local/lib/python3.9/dist-packages (from prettytable==3.3.0->-r requirements.txt (line 9)) (0.2.5)\n",
      "Requirement already satisfied: absl-py in /usr/local/lib/python3.9/dist-packages (from rouge_score==0.1.2->-r requirements.txt (line 11)) (1.1.0)\n",
      "Requirement already satisfied: six>=1.14.0 in /usr/lib/python3/dist-packages (from rouge_score==0.1.2->-r requirements.txt (line 11)) (1.14.0)\n",
      "Collecting portalocker\n",
      "  Downloading portalocker-2.6.0-py2.py3-none-any.whl (15 kB)\n",
      "Requirement already satisfied: colorama in /usr/lib/python3/dist-packages (from sacrebleu==2.0.0->-r requirements.txt (line 12)) (0.4.3)\n",
      "Collecting tabulate>=0.8.9\n",
      "  Downloading tabulate-0.9.0-py3-none-any.whl (35 kB)\n",
      "Requirement already satisfied: typing-extensions in /usr/local/lib/python3.9/dist-packages (from torch==1.12.1->-r requirements.txt (line 14)) (4.3.0)\n",
      "Collecting huggingface-hub<1.0,>=0.1.0\n",
      "  Downloading huggingface_hub-0.11.1-py3-none-any.whl (182 kB)\n",
      "\u001b[2K     \u001b[90m━━━━━━━━━━━━━━━━━━━━━━━━━━━━━━━━━━━━━━\u001b[0m \u001b[32m182.4/182.4 kB\u001b[0m \u001b[31m40.3 MB/s\u001b[0m eta \u001b[36m0:00:00\u001b[0m\n",
      "\u001b[?25hRequirement already satisfied: certifi>=2017.4.17 in /usr/lib/python3/dist-packages (from requests->adapter_transformers==3.0.1->-r requirements.txt (line 1)) (2019.11.28)\n",
      "Requirement already satisfied: charset-normalizer<3,>=2 in /usr/local/lib/python3.9/dist-packages (from requests->adapter_transformers==3.0.1->-r requirements.txt (line 1)) (2.1.0)\n",
      "Requirement already satisfied: idna<4,>=2.5 in /usr/lib/python3/dist-packages (from requests->adapter_transformers==3.0.1->-r requirements.txt (line 1)) (2.8)\n",
      "Requirement already satisfied: urllib3<1.27,>=1.21.1 in /usr/local/lib/python3.9/dist-packages (from requests->adapter_transformers==3.0.1->-r requirements.txt (line 1)) (1.26.10)\n",
      "Requirement already satisfied: frozenlist>=1.1.1 in /usr/local/lib/python3.9/dist-packages (from aiohttp->datasets==2.4.0->-r requirements.txt (line 3)) (1.3.0)\n",
      "Requirement already satisfied: aiosignal>=1.1.2 in /usr/local/lib/python3.9/dist-packages (from aiohttp->datasets==2.4.0->-r requirements.txt (line 3)) (1.2.0)\n",
      "Requirement already satisfied: yarl<2.0,>=1.0 in /usr/local/lib/python3.9/dist-packages (from aiohttp->datasets==2.4.0->-r requirements.txt (line 3)) (1.7.2)\n",
      "Requirement already satisfied: async-timeout<5.0,>=4.0.0a3 in /usr/local/lib/python3.9/dist-packages (from aiohttp->datasets==2.4.0->-r requirements.txt (line 3)) (4.0.2)\n",
      "Requirement already satisfied: attrs>=17.3.0 in /usr/local/lib/python3.9/dist-packages (from aiohttp->datasets==2.4.0->-r requirements.txt (line 3)) (18.2.0)\n",
      "Requirement already satisfied: multidict<7.0,>=4.5 in /usr/local/lib/python3.9/dist-packages (from aiohttp->datasets==2.4.0->-r requirements.txt (line 3)) (6.0.2)\n",
      "Requirement already satisfied: pycparser in /usr/local/lib/python3.9/dist-packages (from cffi->fairseq==0.9.0->-r requirements.txt (line 4)) (2.21)\n",
      "Building wheels for collected packages: fairseq, pyemd, rouge_score, sacremoses\n",
      "  Building wheel for fairseq (setup.py) ... \u001b[?25ldone\n",
      "\u001b[?25h  Created wheel for fairseq: filename=fairseq-0.9.0-cp39-cp39-linux_x86_64.whl size=2828383 sha256=a18d59724574e63adcab80cc21372571dea52082c16d383ce65626bc630b1dc8\n",
      "  Stored in directory: /root/.cache/pip/wheels/74/88/07/b9b1ef462797a0ef0a5c9b2468b51afa6bd5535ae32ca7d55f\n",
      "  Building wheel for pyemd (setup.py) ... \u001b[?25ldone\n",
      "\u001b[?25h  Created wheel for pyemd: filename=pyemd-0.5.1-cp39-cp39-linux_x86_64.whl size=541013 sha256=d316d4d5beaf7a0733a0b6e29e8225e137bd9b82d4049a8d05cc540b4fea6dc7\n",
      "  Stored in directory: /root/.cache/pip/wheels/64/bf/3e/0859be9a0108fc932a29b943792dcafb3b979555cf1bb5add6\n",
      "  Building wheel for rouge_score (setup.py) ... \u001b[?25ldone\n",
      "\u001b[?25h  Created wheel for rouge_score: filename=rouge_score-0.1.2-py3-none-any.whl size=24936 sha256=8e0227434f8c49f5cead8c36541d84c63f9d6ac084ff7699762c8399a5340165\n",
      "  Stored in directory: /root/.cache/pip/wheels/9b/3d/39/09558097d3119ca0a4d462df68f22c6f3c1b345ac63a09b86e\n",
      "  Building wheel for sacremoses (setup.py) ... \u001b[?25ldone\n",
      "\u001b[?25h  Created wheel for sacremoses: filename=sacremoses-0.0.53-py3-none-any.whl size=895242 sha256=d7856984bde89f8a2e1e0455203de7508521b2a98cd4702070a2df56ce840ff2\n",
      "  Stored in directory: /root/.cache/pip/wheels/12/1c/3d/46cf06718d63a32ff798a89594b61e7f345ab6b36d909ce033\n",
      "Successfully built fairseq pyemd rouge_score sacremoses\n",
      "Installing collected packages: torch, tabulate, sacremoses, prettytable, portalocker, numpy, sacrebleu, rouge_score, pyemd, pandas, matplotlib, huggingface-hub, transformers, fairseq, adapter_transformers, datasets, bert_score\n",
      "  Attempting uninstall: torch\n",
      "    Found existing installation: torch 1.12.0+cu116\n",
      "    Uninstalling torch-1.12.0+cu116:\n",
      "      Successfully uninstalled torch-1.12.0+cu116\n",
      "  Attempting uninstall: numpy\n",
      "    Found existing installation: numpy 1.23.1\n",
      "    Uninstalling numpy-1.23.1:\n",
      "      Successfully uninstalled numpy-1.23.1\n",
      "  Attempting uninstall: pandas\n",
      "    Found existing installation: pandas 1.4.3\n",
      "    Uninstalling pandas-1.4.3:\n",
      "      Successfully uninstalled pandas-1.4.3\n",
      "  Attempting uninstall: matplotlib\n",
      "    Found existing installation: matplotlib 3.5.2\n",
      "    Uninstalling matplotlib-3.5.2:\n",
      "      Successfully uninstalled matplotlib-3.5.2\n",
      "  Attempting uninstall: huggingface-hub\n",
      "    Found existing installation: huggingface-hub 0.8.1\n",
      "    Uninstalling huggingface-hub-0.8.1:\n",
      "      Successfully uninstalled huggingface-hub-0.8.1\n",
      "  Attempting uninstall: transformers\n",
      "    Found existing installation: transformers 4.20.1\n",
      "    Uninstalling transformers-4.20.1:\n",
      "      Successfully uninstalled transformers-4.20.1\n",
      "  Attempting uninstall: datasets\n",
      "    Found existing installation: datasets 2.3.2\n",
      "    Uninstalling datasets-2.3.2:\n",
      "      Successfully uninstalled datasets-2.3.2\n",
      "\u001b[31mERROR: pip's dependency resolver does not currently take into account all the packages that are installed. This behaviour is the source of the following dependency conflicts.\n",
      "torchvision 0.13.0+cu116 requires torch==1.12.0, but you have torch 1.12.1 which is incompatible.\n",
      "torchaudio 0.12.0+cu116 requires torch==1.12.0, but you have torch 1.12.1 which is incompatible.\u001b[0m\u001b[31m\n",
      "\u001b[0mSuccessfully installed adapter_transformers-3.0.1 bert_score-0.3.11 datasets-2.4.0 fairseq-0.9.0 huggingface-hub-0.11.1 matplotlib-3.5.1 numpy-1.23.3 pandas-1.4.2 portalocker-2.6.0 prettytable-3.3.0 pyemd-0.5.1 rouge_score-0.1.2 sacrebleu-2.0.0 sacremoses-0.0.53 tabulate-0.9.0 torch-1.12.1 transformers-4.22.2\n",
      "\u001b[33mWARNING: Running pip as the 'root' user can result in broken permissions and conflicting behaviour with the system package manager. It is recommended to use a virtual environment instead: https://pip.pypa.io/warnings/venv\u001b[0m\u001b[33m\n",
      "\u001b[0m"
     ]
    }
   ],
   "source": [
    "!pip install -r requirements.txt\n"
   ]
  },
  {
   "cell_type": "code",
   "execution_count": 18,
   "id": "c6a7cf97-1799-4257-b595-42f43dc7294d",
   "metadata": {
    "execution": {
     "iopub.execute_input": "2023-01-14T10:11:35.479708Z",
     "iopub.status.busy": "2023-01-14T10:11:35.479386Z",
     "iopub.status.idle": "2023-01-14T10:11:38.801733Z",
     "shell.execute_reply": "2023-01-14T10:11:38.800746Z",
     "shell.execute_reply.started": "2023-01-14T10:11:35.479679Z"
    }
   },
   "outputs": [
    {
     "name": "stdout",
     "output_type": "stream",
     "text": [
      "Requirement already satisfied: pyemd==0.5.1 in /usr/local/lib/python3.9/dist-packages (0.5.1)\n",
      "Requirement already satisfied: numpy<2.0.0,>=1.9.0 in /usr/local/lib/python3.9/dist-packages (from pyemd==0.5.1) (1.23.3)\n",
      "\u001b[33mWARNING: Running pip as the 'root' user can result in broken permissions and conflicting behaviour with the system package manager. It is recommended to use a virtual environment instead: https://pip.pypa.io/warnings/venv\u001b[0m\u001b[33m\n",
      "\u001b[0m"
     ]
    }
   ],
   "source": [
    "!pip install pyemd==0.5.1 "
   ]
  },
  {
   "cell_type": "code",
   "execution_count": 2,
   "id": "3a36d67c-dfeb-47cf-8071-0f2fce77cf3a",
   "metadata": {
    "execution": {
     "iopub.execute_input": "2023-01-14T07:29:10.941402Z",
     "iopub.status.busy": "2023-01-14T07:29:10.941049Z",
     "iopub.status.idle": "2023-01-14T07:34:26.970780Z",
     "shell.execute_reply": "2023-01-14T07:34:26.969687Z",
     "shell.execute_reply.started": "2023-01-14T07:29:10.941370Z"
    }
   },
   "outputs": [
    {
     "name": "stdout",
     "output_type": "stream",
     "text": [
      "--2023-01-14 07:29:11--  http://data.statmt.org/prism/m39v1.tar\n",
      "Resolving data.statmt.org (data.statmt.org)... 129.215.197.184\n",
      "Connecting to data.statmt.org (data.statmt.org)|129.215.197.184|:80... connected.\n",
      "HTTP request sent, awaiting response... 301 Moved Permanently\n",
      "Location: https://data.statmt.org/prism/m39v1.tar [following]\n",
      "--2023-01-14 07:29:11--  https://data.statmt.org/prism/m39v1.tar\n",
      "Connecting to data.statmt.org (data.statmt.org)|129.215.197.184|:443... connected.\n",
      "HTTP request sent, awaiting response... 200 OK\n",
      "Length: 1493094400 (1.4G) [application/x-tar]\n",
      "Saving to: ‘m39v1.tar.1’\n",
      "\n",
      "m39v1.tar.1         100%[===================>]   1.39G  4.38MB/s    in 5m 15s  \n",
      "\n",
      "2023-01-14 07:34:26 (4.52 MB/s) - ‘m39v1.tar.1’ saved [1493094400/1493094400]\n",
      "\n",
      "--2023-01-14 07:34:26--  http://tar/\n",
      "Resolving tar (tar)... failed: Name or service not known.\n",
      "wget: unable to resolve host address ‘tar’\n",
      "--2023-01-14 07:34:26--  http://xf/\n",
      "Resolving xf (xf)... failed: Name or service not known.\n",
      "wget: unable to resolve host address ‘xf’\n",
      "--2023-01-14 07:34:26--  http://m39v1.tar/\n",
      "Resolving m39v1.tar (m39v1.tar)... failed: Name or service not known.\n",
      "wget: unable to resolve host address ‘m39v1.tar’\n",
      "FINISHED --2023-01-14 07:34:26--\n",
      "Total wall clock time: 5m 16s\n",
      "Downloaded: 1 files, 1.4G in 5m 15s (4.52 MB/s)\n"
     ]
    }
   ],
   "source": [
    "!wget http://data.statmt.org/prism/m39v1.tar tar xf m39v1.tar\n",
    "\n"
   ]
  },
  {
   "cell_type": "code",
   "execution_count": 10,
   "id": "4064ca23-bc69-47bd-8753-19364be1e55a",
   "metadata": {
    "execution": {
     "iopub.execute_input": "2023-01-14T08:54:37.968458Z",
     "iopub.status.busy": "2023-01-14T08:54:37.968140Z",
     "iopub.status.idle": "2023-01-14T08:54:41.427349Z",
     "shell.execute_reply": "2023-01-14T08:54:41.426164Z",
     "shell.execute_reply.started": "2023-01-14T08:54:37.968432Z"
    }
   },
   "outputs": [
    {
     "name": "stdout",
     "output_type": "stream",
     "text": [
      "Requirement already satisfied: pyemd in /usr/local/lib/python3.9/dist-packages (0.5.1)\n",
      "Requirement already satisfied: numpy<2.0.0,>=1.9.0 in /usr/local/lib/python3.9/dist-packages (from pyemd) (1.23.3)\n",
      "\u001b[33mWARNING: Running pip as the 'root' user can result in broken permissions and conflicting behaviour with the system package manager. It is recommended to use a virtual environment instead: https://pip.pypa.io/warnings/venv\u001b[0m\u001b[33m\n",
      "\u001b[0m"
     ]
    }
   ],
   "source": [
    "!pip install pyemd"
   ]
  },
  {
   "cell_type": "code",
   "execution_count": 23,
   "id": "7b2851cb-f590-4786-9b23-5f5666c7e308",
   "metadata": {
    "execution": {
     "iopub.execute_input": "2023-01-14T10:26:18.587358Z",
     "iopub.status.busy": "2023-01-14T10:26:18.587014Z",
     "iopub.status.idle": "2023-01-14T10:31:34.844614Z",
     "shell.execute_reply": "2023-01-14T10:31:34.843502Z",
     "shell.execute_reply.started": "2023-01-14T10:26:18.587332Z"
    }
   },
   "outputs": [
    {
     "name": "stdout",
     "output_type": "stream",
     "text": [
      "[nltk_data] Downloading package wordnet to /root/nltk_data...\n",
      "[nltk_data]   Package wordnet is already up-to-date!\n",
      "[nltk_data] Downloading package omw-1.4 to /root/nltk_data...\n",
      "[nltk_data]   Package omw-1.4 is already up-to-date!\n",
      "starting calculate bleu\n",
      "starting calculate rouge\n",
      "starting calculate meteor\n",
      "starting calculate nist\n",
      "starting calculate chrf\n",
      "starting calculate bertscore\n",
      "Some weights of the model checkpoint at roberta-large were not used when initializing RobertaModel: ['lm_head.dense.weight', 'lm_head.decoder.weight', 'lm_head.layer_norm.weight', 'lm_head.dense.bias', 'lm_head.layer_norm.bias', 'lm_head.bias']\n",
      "- This IS expected if you are initializing RobertaModel from the checkpoint of a model trained on another task or with another architecture (e.g. initializing a BertForSequenceClassification model from a BertForPreTraining model).\n",
      "- This IS NOT expected if you are initializing RobertaModel from the checkpoint of a model that you expect to be exactly identical (initializing a BertForSequenceClassification model from a BertForSequenceClassification model).\n",
      "Some weights of the model checkpoint at roberta-large were not used when initializing RobertaModel: ['lm_head.dense.weight', 'lm_head.decoder.weight', 'lm_head.layer_norm.weight', 'lm_head.dense.bias', 'lm_head.layer_norm.bias', 'lm_head.bias']\n",
      "- This IS expected if you are initializing RobertaModel from the checkpoint of a model trained on another task or with another architecture (e.g. initializing a BertForSequenceClassification model from a BertForPreTraining model).\n",
      "- This IS NOT expected if you are initializing RobertaModel from the checkpoint of a model that you expect to be exactly identical (initializing a BertForSequenceClassification model from a BertForSequenceClassification model).\n",
      "Some weights of the model checkpoint at roberta-large were not used when initializing RobertaModel: ['lm_head.dense.weight', 'lm_head.decoder.weight', 'lm_head.layer_norm.weight', 'lm_head.dense.bias', 'lm_head.layer_norm.bias', 'lm_head.bias']\n",
      "- This IS expected if you are initializing RobertaModel from the checkpoint of a model trained on another task or with another architecture (e.g. initializing a BertForSequenceClassification model from a BertForPreTraining model).\n",
      "- This IS NOT expected if you are initializing RobertaModel from the checkpoint of a model that you expect to be exactly identical (initializing a BertForSequenceClassification model from a BertForSequenceClassification model).\n",
      "starting calculate bleurt\n",
      "Downloading: 100%|██████████████████████████████| 321/321 [00:00<00:00, 204kB/s]\n",
      "Downloading: 100%|███████████████████████████| 226k/226k [00:00<00:00, 5.79MB/s]\n",
      "Downloading: 100%|███████████████████████████| 455k/455k [00:00<00:00, 6.14MB/s]\n",
      "Downloading: 100%|██████████████████████████████| 112/112 [00:00<00:00, 151kB/s]\n",
      "Downloading: 100%|██████████████████████████████| 779/779 [00:00<00:00, 822kB/s]\n",
      "Downloading: 100%|███████████████████████████| 418M/418M [00:08<00:00, 53.5MB/s]\n",
      "starting calculate prism\n",
      "starting calculate bartscore\n",
      "Downloading: 100%|███████████████████████████| 878k/878k [00:00<00:00, 7.87MB/s]\n",
      "Downloading: 100%|███████████████████████████| 446k/446k [00:00<00:00, 6.41MB/s]\n",
      "Downloading: 100%|██████████████████████████| 1.55k/1.55k [00:00<00:00, 980kB/s]\n",
      "Downloading: 100%|█████████████████████████| 1.51G/1.51G [00:35<00:00, 45.6MB/s]\n",
      "starting calculate frugalscore\n",
      "Downloading: 100%|█████████████████████████████| 715/715 [00:00<00:00, 1.12MB/s]\n",
      "Downloading: 100%|█████████████████████████| 16.8M/16.8M [00:00<00:00, 61.5MB/s]\n",
      "Downloading: 100%|██████████████████████████████| 324/324 [00:00<00:00, 247kB/s]\n",
      "Downloading: 100%|███████████████████████████| 226k/226k [00:00<00:00, 6.06MB/s]\n",
      "Downloading: 100%|███████████████████████████| 455k/455k [00:00<00:00, 7.39MB/s]\n",
      "Downloading: 100%|█████████████████████████████| 112/112 [00:00<00:00, 85.8kB/s]\n",
      "100%|█████████████████████████████████████████████| 1/1 [00:00<00:00,  9.53ba/s]\n",
      "Using amp half precision backend\n",
      "The following columns in the test set  don't have a corresponding argument in `BertForSequenceClassification.forward` and have been ignored: sentence1, sentence2. If sentence1, sentence2 are not expected by `BertForSequenceClassification.forward`,  you can safely ignore this message.\n",
      "***** Running Prediction *****\n",
      "  Num examples = 792\n",
      "  Batch size = 4\n",
      "100%|████████████████████████████████████████| 198/198 [00:00<00:00, 209.54it/s]\n"
     ]
    }
   ],
   "source": [
    "!python3 metrics.py --hyps_file hyps.txt  --refs_file refs.txt  --bert_score_model roberta-large  --bart_score_model facebook/bart-large-cnn  --mover_score_model distilbert-base-uncased --frugal_score_model moussaKam/frugalscore_tiny_bert-base_bert-score  --bleurt_score_model Elron/bleurt-base-512   --batch_size 4    --device cuda  --output_file scores.csv "
   ]
  },
  {
   "cell_type": "code",
   "execution_count": 3,
   "id": "f887b6f2-fb0e-4191-b1ec-2b24e358d250",
   "metadata": {
    "execution": {
     "iopub.execute_input": "2023-01-14T07:54:02.106935Z",
     "iopub.status.busy": "2023-01-14T07:54:02.106570Z",
     "iopub.status.idle": "2023-01-14T07:55:41.970446Z",
     "shell.execute_reply": "2023-01-14T07:55:41.969496Z",
     "shell.execute_reply.started": "2023-01-14T07:54:02.106907Z"
    }
   },
   "outputs": [
    {
     "name": "stdout",
     "output_type": "stream",
     "text": [
      "Looking in indexes: https://pypi.org/simple, https://download.pytorch.org/whl/cu116\n",
      "Requirement already satisfied: torch in /usr/local/lib/python3.9/dist-packages (1.12.1)\n",
      "Requirement already satisfied: torchvision in /usr/local/lib/python3.9/dist-packages (0.13.0+cu116)\n",
      "Requirement already satisfied: torchaudio in /usr/local/lib/python3.9/dist-packages (0.12.0+cu116)\n",
      "Requirement already satisfied: typing-extensions in /usr/local/lib/python3.9/dist-packages (from torch) (4.3.0)\n",
      "Requirement already satisfied: numpy in /usr/local/lib/python3.9/dist-packages (from torchvision) (1.23.3)\n",
      "Collecting torch\n",
      "  Downloading https://download.pytorch.org/whl/cu116/torch-1.12.0%2Bcu116-cp39-cp39-linux_x86_64.whl (1904.6 MB)\n",
      "\u001b[2K     \u001b[90m━━━━━━━━━━━━━━━━━━━━━━━━━━━━━━━━━━━━━━━━\u001b[0m \u001b[32m1.9/1.9 GB\u001b[0m \u001b[31m1.1 MB/s\u001b[0m eta \u001b[36m0:00:00\u001b[0m:00:01\u001b[0m00:01\u001b[0mm\n",
      "\u001b[?25hRequirement already satisfied: requests in /usr/local/lib/python3.9/dist-packages (from torchvision) (2.28.1)\n",
      "Requirement already satisfied: pillow!=8.3.*,>=5.3.0 in /usr/local/lib/python3.9/dist-packages (from torchvision) (9.2.0)\n",
      "Requirement already satisfied: urllib3<1.27,>=1.21.1 in /usr/local/lib/python3.9/dist-packages (from requests->torchvision) (1.26.10)\n",
      "Requirement already satisfied: charset-normalizer<3,>=2 in /usr/local/lib/python3.9/dist-packages (from requests->torchvision) (2.1.0)\n",
      "Requirement already satisfied: certifi>=2017.4.17 in /usr/lib/python3/dist-packages (from requests->torchvision) (2019.11.28)\n",
      "Requirement already satisfied: idna<4,>=2.5 in /usr/lib/python3/dist-packages (from requests->torchvision) (2.8)\n",
      "Installing collected packages: torch\n",
      "  Attempting uninstall: torch\n",
      "    Found existing installation: torch 1.12.1\n",
      "    Uninstalling torch-1.12.1:\n",
      "      Successfully uninstalled torch-1.12.1\n",
      "Successfully installed torch-1.12.0+cu116\n",
      "\u001b[33mWARNING: Running pip as the 'root' user can result in broken permissions and conflicting behaviour with the system package manager. It is recommended to use a virtual environment instead: https://pip.pypa.io/warnings/venv\u001b[0m\u001b[33m\n",
      "\u001b[0m"
     ]
    }
   ],
   "source": [
    "!pip3 install torch torchvision torchaudio --extra-index-url https://download.pytorch.org/whl/cu116"
   ]
  }
 ],
 "metadata": {
  "kernelspec": {
   "display_name": "Python 3 (ipykernel)",
   "language": "python",
   "name": "python3"
  },
  "language_info": {
   "codemirror_mode": {
    "name": "ipython",
    "version": 3
   },
   "file_extension": ".py",
   "mimetype": "text/x-python",
   "name": "python",
   "nbconvert_exporter": "python",
   "pygments_lexer": "ipython3",
   "version": "3.9.13"
  }
 },
 "nbformat": 4,
 "nbformat_minor": 5
}
