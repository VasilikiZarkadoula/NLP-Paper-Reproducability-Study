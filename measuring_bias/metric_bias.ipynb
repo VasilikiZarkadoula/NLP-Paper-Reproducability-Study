{
 "cells": [
  {
   "cell_type": "code",
   "execution_count": 1,
   "id": "8eaaeb0d-51be-4c9c-a214-908ecef9646d",
   "metadata": {
    "execution": {
     "iopub.execute_input": "2023-01-15T09:34:24.504683Z",
     "iopub.status.busy": "2023-01-15T09:34:24.503542Z",
     "iopub.status.idle": "2023-01-15T09:34:28.867958Z",
     "shell.execute_reply": "2023-01-15T09:34:28.866791Z",
     "shell.execute_reply.started": "2023-01-15T09:34:24.504537Z"
    }
   },
   "outputs": [
    {
     "name": "stdout",
     "output_type": "stream",
     "text": [
      "Requirement already satisfied: pyemd==0.5.1 in /usr/local/lib/python3.9/dist-packages (0.5.1)\n",
      "Requirement already satisfied: numpy<2.0.0,>=1.9.0 in /usr/local/lib/python3.9/dist-packages (from pyemd==0.5.1) (1.23.3)\n",
      "\u001b[33mWARNING: Running pip as the 'root' user can result in broken permissions and conflicting behaviour with the system package manager. It is recommended to use a virtual environment instead: https://pip.pypa.io/warnings/venv\u001b[0m\u001b[33m\n",
      "\u001b[0mNote: you may need to restart the kernel to use updated packages.\n"
     ]
    }
   ],
   "source": [
    "pip install pyemd==0.5.1\n"
   ]
  },
  {
   "cell_type": "code",
   "execution_count": 38,
   "id": "27da3ffa-23c0-46c4-868a-c31e5357ac84",
   "metadata": {
    "execution": {
     "iopub.execute_input": "2023-01-15T11:31:13.202920Z",
     "iopub.status.busy": "2023-01-15T11:31:13.202368Z",
     "iopub.status.idle": "2023-01-15T11:31:13.788342Z",
     "shell.execute_reply": "2023-01-15T11:31:13.787291Z",
     "shell.execute_reply.started": "2023-01-15T11:31:13.202878Z"
    }
   },
   "outputs": [
    {
     "name": "stdout",
     "output_type": "stream",
     "text": [
      "Evaluating bias types: ['age', 'gender', 'race', 'religion', 'socioeconomic', 'physical-appearance']\n",
      "Evaluating metric names: ['bleu', 'rouge', 'meteor', 'nist', 'chrf', 'bertscore-distilbert', 'bertscore-roberta-base', 'bertscore-roberta-large', 'bertscore-bert-base', 'bertscore-bert-large', 'moverscore-distilbert', 'moverscore-bert-base', 'moverscore-bert-large', 'bleurt-bert-tiny', 'bleurt-bert-base', 'bleurt-bert-large', 'bleurt-rembert', 'prism-p', 'prism-r', 'prism-f', 'bartscore-bart-base-p', 'bartscore-bart-base-r', 'bartscore-bart-base-f', 'bartscore-bart-large-p', 'bartscore-bart-large-r', 'bartscore-bart-large-f', 'frugalscore-bert-tiny', 'frugalscore-bert-small', 'frugalscore-bert-medium']\n",
      "\n",
      "Reading ./data/age.tsv...\n",
      "# sample pairs: 71\n",
      "bertscore-distilbert not found.\n",
      "bertscore-roberta-base not found.\n",
      "moverscore-bert-base not found.\n",
      "moverscore-bert-large not found.\n",
      "bleurt-bert-tiny not found.\n",
      "bleurt-bert-large not found.\n",
      "bleurt-rembert not found.\n",
      "bartscore-bart-base-p not found.\n",
      "bartscore-bart-base-r not found.\n",
      "bartscore-bart-base-f not found.\n",
      "frugalscore-bert-small not found.\n",
      "frugalscore-bert-medium not found.\n",
      "\n",
      "Reading ./data/gender.tsv...\n",
      "# sample pairs: 396\n",
      "bertscore-distilbert not found.\n",
      "bertscore-roberta-base not found.\n",
      "moverscore-bert-base not found.\n",
      "moverscore-bert-large not found.\n",
      "bleurt-bert-tiny not found.\n",
      "bleurt-bert-large not found.\n",
      "bleurt-rembert not found.\n",
      "bartscore-bart-base-p not found.\n",
      "bartscore-bart-base-r not found.\n",
      "bartscore-bart-base-f not found.\n",
      "frugalscore-bert-small not found.\n",
      "frugalscore-bert-medium not found.\n",
      "\n",
      "Reading ./data/race.tsv...\n",
      "# sample pairs: 179\n",
      "bertscore-distilbert not found.\n",
      "bertscore-roberta-base not found.\n",
      "moverscore-bert-base not found.\n",
      "moverscore-bert-large not found.\n",
      "bleurt-bert-tiny not found.\n",
      "bleurt-bert-large not found.\n",
      "bleurt-rembert not found.\n",
      "bartscore-bart-base-p not found.\n",
      "bartscore-bart-base-r not found.\n",
      "bartscore-bart-base-f not found.\n",
      "frugalscore-bert-small not found.\n",
      "frugalscore-bert-medium not found.\n",
      "\n",
      "Reading ./data/religion.tsv...\n",
      "# sample pairs: 104\n",
      "bertscore-distilbert not found.\n",
      "bertscore-roberta-base not found.\n",
      "moverscore-bert-base not found.\n",
      "moverscore-bert-large not found.\n",
      "bleurt-bert-tiny not found.\n",
      "bleurt-bert-large not found.\n",
      "bleurt-rembert not found.\n",
      "bartscore-bart-base-p not found.\n",
      "bartscore-bart-base-r not found.\n",
      "bartscore-bart-base-f not found.\n",
      "frugalscore-bert-small not found.\n",
      "frugalscore-bert-medium not found.\n",
      "\n",
      "Reading ./data/socioeconomic.tsv...\n",
      "# sample pairs: 129\n",
      "bertscore-distilbert not found.\n",
      "bertscore-roberta-base not found.\n",
      "moverscore-bert-base not found.\n",
      "moverscore-bert-large not found.\n",
      "bleurt-bert-tiny not found.\n",
      "bleurt-bert-large not found.\n",
      "bleurt-rembert not found.\n",
      "bartscore-bart-base-p not found.\n",
      "bartscore-bart-base-r not found.\n",
      "bartscore-bart-base-f not found.\n",
      "frugalscore-bert-small not found.\n",
      "frugalscore-bert-medium not found.\n",
      "\n",
      "Reading ./data/physical-appearance.tsv...\n",
      "# sample pairs: 62\n",
      "bertscore-distilbert not found.\n",
      "bertscore-roberta-base not found.\n",
      "moverscore-bert-base not found.\n",
      "moverscore-bert-large not found.\n",
      "bleurt-bert-tiny not found.\n",
      "bleurt-bert-large not found.\n",
      "bleurt-rembert not found.\n",
      "bartscore-bart-base-p not found.\n",
      "bartscore-bart-base-r not found.\n",
      "bartscore-bart-base-f not found.\n",
      "frugalscore-bert-small not found.\n",
      "frugalscore-bert-medium not found.\n",
      "\n",
      "Table: Evaluated bias scores.\n",
      "+-------------------------+-------+--------+---------------------+------+----------+---------------+\n",
      "|          metric         |  age  | gender | physical-appearance | race | religion | socioeconomic |\n",
      "+-------------------------+-------+--------+---------------------+------+----------+---------------+\n",
      "|  bartscore-bart-base-f  |   -   |   -    |          -          |  -   |    -     |       -       |\n",
      "|  bartscore-bart-base-p  |   -   |   -    |          -          |  -   |    -     |       -       |\n",
      "|  bartscore-bart-base-r  |   -   |   -    |          -          |  -   |    -     |       -       |\n",
      "|  bartscore-bart-large-f |  3.83 |  9.47  |         6.31        | 1.68 |   5.44   |      4.93     |\n",
      "|  bartscore-bart-large-p |  7.65 | 14.17  |         6.34        | 1.83 |   6.53   |      6.65     |\n",
      "|  bartscore-bart-large-r |  2.36 |  3.69  |         4.81        | 2.16 |   4.59   |      4.53     |\n",
      "|   bertscore-bert-base   |  9.08 |  7.06  |         9.96        | 3.19 |   9.64   |     11.78     |\n",
      "|   bertscore-bert-large  |  8.08 |  6.38  |         7.42        | 3.06 |   7.76   |      9.58     |\n",
      "|   bertscore-distilbert  |   -   |   -    |          -          |  -   |    -     |       -       |\n",
      "|  bertscore-roberta-base |   -   |   -    |          -          |  -   |    -     |       -       |\n",
      "| bertscore-roberta-large |  6.71 |  5.18  |         4.57        | 3.2  |   6.26   |      5.67     |\n",
      "|           bleu          |  2.35 |  0.1   |         0.94        | 0.19 |   0.71   |      2.47     |\n",
      "|     bleurt-bert-base    | 13.45 |  30.0  |        12.93        | 3.03 |  20.79   |     15.49     |\n",
      "|    bleurt-bert-large    |   -   |   -    |          -          |  -   |    -     |       -       |\n",
      "|     bleurt-bert-tiny    |   -   |   -    |          -          |  -   |    -     |       -       |\n",
      "|      bleurt-rembert     |   -   |   -    |          -          |  -   |    -     |       -       |\n",
      "|           chrf          |  3.43 |  1.23  |         1.57        | 1.89 |   2.16   |      3.39     |\n",
      "| frugalscore-bert-medium |   -   |   -    |          -          |  -   |    -     |       -       |\n",
      "|  frugalscore-bert-small |   -   |   -    |          -          |  -   |    -     |       -       |\n",
      "|  frugalscore-bert-tiny  |  7.97 |  3.2   |         5.27        | 1.4  |   8.71   |      7.07     |\n",
      "|          meteor         |  5.4  |  1.66  |         3.28        | 1.5  |   3.46   |      4.37     |\n",
      "|   moverscore-bert-base  |   -   |   -    |          -          |  -   |    -     |       -       |\n",
      "|  moverscore-bert-large  |   -   |   -    |          -          |  -   |    -     |       -       |\n",
      "|  moverscore-distilbert  |  7.24 | 13.24  |         4.95        | 3.35 |  14.35   |      8.58     |\n",
      "|           nist          |  2.14 |  0.12  |         1.03        | 0.25 |   0.75   |      1.36     |\n",
      "|         prism-f         |  6.69 |  7.13  |         7.48        | 1.97 |   9.48   |      4.74     |\n",
      "|         prism-p         |  5.1  |  3.0   |         7.13        | 2.65 |   6.09   |      4.76     |\n",
      "|         prism-r         |  9.1  | 14.33  |         7.05        | 2.6  |   9.83   |      6.49     |\n",
      "|          rouge          |  3.83 |  0.21  |         2.01        | 0.12 |   1.65   |      3.29     |\n",
      "+-------------------------+-------+--------+---------------------+------+----------+---------------+\n"
     ]
    }
   ],
   "source": [
    "!python get_bias_score.py\n"
   ]
  },
  {
   "cell_type": "code",
   "execution_count": null,
   "id": "3cd3d89f-ff28-4b51-8219-254b57e55c62",
   "metadata": {},
   "outputs": [],
   "source": []
  }
 ],
 "metadata": {
  "kernelspec": {
   "display_name": "Python 3 (ipykernel)",
   "language": "python",
   "name": "python3"
  },
  "language_info": {
   "codemirror_mode": {
    "name": "ipython",
    "version": 3
   },
   "file_extension": ".py",
   "mimetype": "text/x-python",
   "name": "python",
   "nbconvert_exporter": "python",
   "pygments_lexer": "ipython3",
   "version": "3.9.13"
  }
 },
 "nbformat": 4,
 "nbformat_minor": 5
}
